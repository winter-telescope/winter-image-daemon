{
 "cells": [
  {
   "cell_type": "markdown",
   "id": "380ed64b",
   "metadata": {},
   "source": [
    "# PIRT/SPRING Camera WSP Development"
   ]
  },
  {
   "cell_type": "code",
   "execution_count": 5,
   "id": "3603584c",
   "metadata": {},
   "outputs": [
    {
     "name": "stdout",
     "output_type": "stream",
     "text": [
      "Registered cameras: []\n"
     ]
    }
   ],
   "source": [
    "from imagedaemon import registry\n",
    "available_cameras = registry.available()\n",
    "print(\"Registered cameras:\", available_cameras)\n",
    "\n"
   ]
  },
  {
   "cell_type": "code",
   "execution_count": 4,
   "id": "16869ddf",
   "metadata": {},
   "outputs": [
    {
     "ename": "KeyError",
     "evalue": "\"Camera 'pirt' not found. Available: \"",
     "output_type": "error",
     "traceback": [
      "\u001b[0;31m---------------------------------------------------------------------------\u001b[0m",
      "\u001b[0;31mKeyError\u001b[0m                                  Traceback (most recent call last)",
      "File \u001b[0;32m~/GIT/winter-image-daemon/imagedaemon/registry.py:97\u001b[0m, in \u001b[0;36mget\u001b[0;34m(name)\u001b[0m\n\u001b[1;32m     96\u001b[0m \u001b[38;5;28;01mtry\u001b[39;00m:\n\u001b[0;32m---> 97\u001b[0m     \u001b[38;5;28;01mreturn\u001b[39;00m \u001b[43m_ADAPTERS\u001b[49m\u001b[43m[\u001b[49m\u001b[43mname\u001b[49m\u001b[38;5;241;43m.\u001b[39;49m\u001b[43mlower\u001b[49m\u001b[43m(\u001b[49m\u001b[43m)\u001b[49m\u001b[43m]\u001b[49m\n\u001b[1;32m     98\u001b[0m \u001b[38;5;28;01mexcept\u001b[39;00m \u001b[38;5;167;01mKeyError\u001b[39;00m \u001b[38;5;28;01mas\u001b[39;00m e:\n",
      "\u001b[0;31mKeyError\u001b[0m: 'pirt'",
      "\nThe above exception was the direct cause of the following exception:\n",
      "\u001b[0;31mKeyError\u001b[0m                                  Traceback (most recent call last)",
      "Cell \u001b[0;32mIn[4], line 3\u001b[0m\n\u001b[1;32m      1\u001b[0m \u001b[38;5;66;03m# PIRT Pipeline\u001b[39;00m\n\u001b[1;32m      2\u001b[0m \u001b[38;5;28;01mimport\u001b[39;00m\u001b[38;5;250m \u001b[39m\u001b[38;5;21;01mos\u001b[39;00m\n\u001b[0;32m----> 3\u001b[0m imagedaemon \u001b[38;5;241m=\u001b[39m \u001b[43mregistry\u001b[49m\u001b[38;5;241;43m.\u001b[39;49m\u001b[43mget\u001b[49m\u001b[43m(\u001b[49m\u001b[38;5;124;43m\"\u001b[39;49m\u001b[38;5;124;43mpirt\u001b[39;49m\u001b[38;5;124;43m\"\u001b[39;49m\u001b[43m)\u001b[49m\n",
      "File \u001b[0;32m~/GIT/winter-image-daemon/imagedaemon/registry.py:99\u001b[0m, in \u001b[0;36mget\u001b[0;34m(name)\u001b[0m\n\u001b[1;32m     97\u001b[0m     \u001b[38;5;28;01mreturn\u001b[39;00m _ADAPTERS[name\u001b[38;5;241m.\u001b[39mlower()]\n\u001b[1;32m     98\u001b[0m \u001b[38;5;28;01mexcept\u001b[39;00m \u001b[38;5;167;01mKeyError\u001b[39;00m \u001b[38;5;28;01mas\u001b[39;00m e:\n\u001b[0;32m---> 99\u001b[0m     \u001b[38;5;28;01mraise\u001b[39;00m \u001b[38;5;167;01mKeyError\u001b[39;00m(\n\u001b[1;32m    100\u001b[0m         \u001b[38;5;124mf\u001b[39m\u001b[38;5;124m\"\u001b[39m\u001b[38;5;124mCamera \u001b[39m\u001b[38;5;124m'\u001b[39m\u001b[38;5;132;01m{\u001b[39;00mname\u001b[38;5;132;01m}\u001b[39;00m\u001b[38;5;124m'\u001b[39m\u001b[38;5;124m not found. Available: \u001b[39m\u001b[38;5;132;01m{\u001b[39;00m\u001b[38;5;124m'\u001b[39m\u001b[38;5;124m, \u001b[39m\u001b[38;5;124m'\u001b[39m\u001b[38;5;241m.\u001b[39mjoin(_ADAPTERS)\u001b[38;5;132;01m}\u001b[39;00m\u001b[38;5;124m\"\u001b[39m\n\u001b[1;32m    101\u001b[0m     ) \u001b[38;5;28;01mfrom\u001b[39;00m\u001b[38;5;250m \u001b[39m\u001b[38;5;21;01me\u001b[39;00m\n",
      "\u001b[0;31mKeyError\u001b[0m: \"Camera 'pirt' not found. Available: \""
     ]
    }
   ],
   "source": [
    "# PIRT Pipeline\n",
    "import os\n",
    "imagedaemon = registry.get(\"pirt\")"
   ]
  },
  {
   "cell_type": "markdown",
   "id": "daaeb8b2",
   "metadata": {},
   "source": [
    "## SPRING + WSP Focus Loop\n",
    "\n",
    "These are the filenames as printed out by WSP after running a focus loop:\n",
    "```bash:\n",
    "FOCUS LOOP DATA:\n",
    "     [1] Focuser Pos: 19400.0, ~\\data\\images\\20251022\\spring/SPRINGCamera_20251023-102231-263.fits\n",
    "     [2] Focuser Pos: 19560.0, ~\\data\\images\\20251022\\spring/SPRINGCamera_20251023-102259-420.fits\n",
    "     [3] Focuser Pos: 19720.0, ~\\data\\images\\20251022\\spring/SPRINGCamera_20251023-102329-392.fits\n",
    "     [4] Focuser Pos: 19880.0, ~\\data\\images\\20251022\\spring/SPRINGCamera_20251023-102359-217.fits\n",
    "     [5] Focuser Pos: 20040.0, ~\\data\\images\\20251022\\spring/SPRINGCamera_20251023-102429-091.fits\n",
    "     [6] Focuser Pos: 20200.0, ~\\data\\images\\20251022\\spring/SPRINGCamera_20251023-102459-480.fits\n",
    "```"
   ]
  },
  {
   "cell_type": "code",
   "execution_count": null,
   "id": "36e8617a",
   "metadata": {},
   "outputs": [],
   "source": [
    "\n",
    "\n",
    "\n",
    "images = ['~\\\\data\\\\images\\\\20251022\\\\spring/SPRINGCamera_20251023-102231-263.fits',\n",
    " '~\\\\data\\\\images\\\\20251022\\\\spring/SPRINGCamera_20251023-102259-420.fits',\n",
    " '~\\\\data\\\\images\\\\20251022\\\\spring/SPRINGCamera_20251023-102329-392.fits',\n",
    " '~\\\\data\\\\images\\\\20251022\\\\spring/SPRINGCamera_20251023-102359-217.fits',\n",
    " '~\\\\data\\\\images\\\\20251022\\\\spring/SPRINGCamera_20251023-102429-091.fits',\n",
    " '~\\\\data\\\\images\\\\20251022\\\\spring/SPRINGCamera_20251023-102459-480.fits']\n",
    "\n",
    "\n"
   ]
  },
  {
   "cell_type": "code",
   "execution_count": null,
   "id": "8286720e",
   "metadata": {},
   "outputs": [],
   "source": [
    "# Run the focus loop by directly running the pipeline:\n",
    "# Focus attempt\n",
    "from imagedaemon.utils.image import Image\n",
    "import matplotlib.pyplot as plt\n",
    "from glob import glob\n",
    "focus_images = images\n",
    "# make a plot with all images in a single figure\n",
    "\n",
    "\n",
    "fig, axs = plt.subplots(nrows=1, ncols=len(focus_images), figsize=(25, 5))\n",
    "\n",
    "for ax, img_path in zip(axs, focus_images):\n",
    "    img = Image(img_path)\n",
    "    ax.imshow(img.data, cmap='gray', origin='lower')\n",
    "    ax.set_title(f\"Focus = {img.header.get('FOCPOS'):.0f}\")\n",
    "    ax.axis('off')\n",
    "plt.tight_layout()\n"
   ]
  },
  {
   "cell_type": "code",
   "execution_count": null,
   "id": "775173e6",
   "metadata": {},
   "outputs": [],
   "source": [
    "images = ['~\\\\data\\\\images\\\\20251022\\\\spring/SPRINGCamera_20251023-102231-263.fits',\n",
    " '~\\\\data\\\\images\\\\20251022\\\\spring/SPRINGCamera_20251023-102259-420.fits',\n",
    " '~\\\\data\\\\images\\\\20251022\\\\spring/SPRINGCamera_20251023-102329-392.fits',\n",
    " '~\\\\data\\\\images\\\\20251022\\\\spring/SPRINGCamera_20251023-102359-217.fits',\n",
    " '~\\\\data\\\\images\\\\20251022\\\\spring/SPRINGCamera_20251023-102429-091.fits',\n",
    " '~\\\\data\\\\images\\\\20251022\\\\spring/SPRINGCamera_20251023-102459-480.fits']\n",
    "\n",
    "# now try for a focus loop\n",
    "\n",
    "results = imagedaemon.run_focus_loop(image_list = images,\n",
    "                                   addrs = None,\n",
    "                                   output_dir = os.path.join(os.path.expanduser(\"~\"), \"data\", \"tmp\"),\n",
    ")\n",
    "\n",
    "print(f\"Focus loop results: {results}\")"
   ]
  },
  {
   "cell_type": "code",
   "execution_count": null,
   "id": "c381fd14",
   "metadata": {},
   "outputs": [],
   "source": []
  },
  {
   "cell_type": "code",
   "execution_count": null,
   "id": "29f90159",
   "metadata": {},
   "outputs": [],
   "source": []
  },
  {
   "cell_type": "code",
   "execution_count": null,
   "id": "4bb99432",
   "metadata": {},
   "outputs": [],
   "source": []
  },
  {
   "cell_type": "code",
   "execution_count": null,
   "id": "688295aa",
   "metadata": {},
   "outputs": [],
   "source": [
    "'''\n",
    "from imagedaemon import registry\n",
    "import os\n",
    "from glob import glob\n",
    "available_cameras = registry.available()\n",
    "print(\"Registered cameras:\", available_cameras)\n",
    "\n",
    "# check the camera parameters\n",
    "for camname in available_cameras:\n",
    "    camera = registry.get(camname)\n",
    "    print(\"camera:\")\n",
    "    for entry in camera.meta:\n",
    "        print(f\"\\t {entry}\")\n",
    "\n",
    "pirt = registry.get(\"pirt\")\n",
    "science_dir = os.path.join(os.path.expanduser(\"~\"), \"data\", \"image-deamon-data\",\n",
    "                           \"raw\", \"pirt\",\"commissioning\", \"20250803\", \"science\",\"WNTR25fejjz\")\n",
    "\n",
    "'''"
   ]
  }
 ],
 "metadata": {
  "kernelspec": {
   "display_name": "Python 3",
   "language": "python",
   "name": "python3"
  },
  "language_info": {
   "codemirror_mode": {
    "name": "ipython",
    "version": 3
   },
   "file_extension": ".py",
   "mimetype": "text/x-python",
   "name": "python",
   "nbconvert_exporter": "python",
   "pygments_lexer": "ipython3",
   "version": "3.11.11"
  }
 },
 "nbformat": 4,
 "nbformat_minor": 5
}
