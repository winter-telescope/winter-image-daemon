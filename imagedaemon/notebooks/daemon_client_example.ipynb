{
 "cells": [
  {
   "cell_type": "code",
   "execution_count": 5,
   "id": "c5eeff23",
   "metadata": {},
   "outputs": [],
   "source": [
    "import Pyro5.api\n",
    "import os\n",
    "from glob import glob\n",
    "import json\n",
    "\n",
    "from imagedaemon.utils.paths import RAW_DATA_DIR\n",
    "from imagedaemon.utils.wcs_utils import pix2sky\n",
    "\n",
    "\n",
    "ns = Pyro5.api.locate_ns(host=\"localhost\")\n",
    "\n",
    "#winter = Pyro5.api.Proxy(ns.lookup(\"winter_daemon\"))\n",
    "#wcs = winter.get_astrometry(addr=\"pb\", science_image=\"IMG.fits\", ra=..., dec=...)\n",
    "\n",
    "qcmos = Pyro5.api.Proxy(ns.lookup(\"qcmos_daemon\"))"
   ]
  },
  {
   "cell_type": "code",
   "execution_count": null,
   "id": "c4fbfa59",
   "metadata": {},
   "outputs": [
    {
     "name": "stdout",
     "output_type": "stream",
     "text": [
      "Science image: /Users/nlourie/data/image-daemon-data/raw/qcmos/science/8s_image_single.cal.fits\n"
     ]
    },
    {
     "ename": "TypeError",
     "evalue": "scalar 'SkyCoord' object is not iterable.",
     "output_type": "error",
     "traceback": [
      "\u001b[0;31m---------------------------------------------------------------------------\u001b[0m",
      "\u001b[0;31mTypeError\u001b[0m                                 Traceback (most recent call last)",
      "Cell \u001b[0;32mIn[8], line 15\u001b[0m\n\u001b[1;32m     10\u001b[0m ra_guess \u001b[38;5;241m=\u001b[39m \u001b[38;5;241m83.6\u001b[39m\n\u001b[1;32m     11\u001b[0m dec_guess \u001b[38;5;241m=\u001b[39m \u001b[38;5;241m22\u001b[39m\n\u001b[0;32m---> 15\u001b[0m astrom_info \u001b[38;5;241m=\u001b[39m \u001b[43mqcmos\u001b[49m\u001b[38;5;241;43m.\u001b[39;49m\u001b[43msolve_astrometry\u001b[49m\u001b[43m(\u001b[49m\u001b[43mscience_image\u001b[49m\u001b[43m \u001b[49m\u001b[38;5;241;43m=\u001b[39;49m\u001b[43m \u001b[49m\u001b[43mscience_image\u001b[49m\u001b[43m,\u001b[49m\n\u001b[1;32m     16\u001b[0m \u001b[43m                                      \u001b[49m\u001b[43mbackground_image_list\u001b[49m\u001b[43m \u001b[49m\u001b[38;5;241;43m=\u001b[39;49m\u001b[43m \u001b[49m\u001b[38;5;28;43;01mNone\u001b[39;49;00m\u001b[43m,\u001b[49m\n\u001b[1;32m     17\u001b[0m \u001b[43m                                      \u001b[49m\u001b[43moutput_dir\u001b[49m\u001b[43m \u001b[49m\u001b[38;5;241;43m=\u001b[39;49m\u001b[43m \u001b[49m\u001b[43moutput_dir\u001b[49m\u001b[43m,\u001b[49m\n\u001b[1;32m     18\u001b[0m \u001b[43m                                      \u001b[49m\u001b[43mra\u001b[49m\u001b[43m \u001b[49m\u001b[38;5;241;43m=\u001b[39;49m\u001b[43m \u001b[49m\u001b[43mra_guess\u001b[49m\u001b[43m,\u001b[49m\n\u001b[1;32m     19\u001b[0m \u001b[43m                                      \u001b[49m\u001b[43mdec\u001b[49m\u001b[43m \u001b[49m\u001b[38;5;241;43m=\u001b[39;49m\u001b[43m \u001b[49m\u001b[43mdec_guess\u001b[49m\u001b[43m,\u001b[49m\n\u001b[1;32m     20\u001b[0m \u001b[43m                                      \u001b[49m\u001b[43mpix_coords\u001b[49m\u001b[43m \u001b[49m\u001b[38;5;241;43m=\u001b[39;49m\u001b[43m \u001b[49m\u001b[38;5;28;43;01mNone\u001b[39;49;00m\u001b[43m,\u001b[49m\n\u001b[1;32m     21\u001b[0m \u001b[43m    \u001b[49m\u001b[43m)\u001b[49m\n\u001b[1;32m     23\u001b[0m \u001b[38;5;66;03m#print(f\"Astrometric solution: {json.dumps(astrom_info, indent = 2)}\")\u001b[39;00m\n\u001b[1;32m     24\u001b[0m \n\u001b[1;32m     25\u001b[0m \u001b[38;5;66;03m# the image is 4096 x 2304\u001b[39;00m\n\u001b[1;32m     26\u001b[0m wx \u001b[38;5;241m=\u001b[39m \u001b[38;5;241m4096\u001b[39m\n",
      "File \u001b[0;32m~/Desktop/Work/MIT/WINTER/GIT/winter-image-daemon/.conda/lib/python3.11/site-packages/Pyro5/client.py:510\u001b[0m, in \u001b[0;36m_RemoteMethod.__call__\u001b[0;34m(self, *args, **kwargs)\u001b[0m\n\u001b[1;32m    508\u001b[0m \u001b[38;5;28;01mfor\u001b[39;00m attempt \u001b[38;5;129;01min\u001b[39;00m \u001b[38;5;28mrange\u001b[39m(\u001b[38;5;28mself\u001b[39m\u001b[38;5;241m.\u001b[39m__max_retries \u001b[38;5;241m+\u001b[39m \u001b[38;5;241m1\u001b[39m):\n\u001b[1;32m    509\u001b[0m     \u001b[38;5;28;01mtry\u001b[39;00m:\n\u001b[0;32m--> 510\u001b[0m         \u001b[38;5;28;01mreturn\u001b[39;00m \u001b[38;5;28;43mself\u001b[39;49m\u001b[38;5;241;43m.\u001b[39;49m\u001b[43m__send\u001b[49m\u001b[43m(\u001b[49m\u001b[38;5;28;43mself\u001b[39;49m\u001b[38;5;241;43m.\u001b[39;49m\u001b[43m__name\u001b[49m\u001b[43m,\u001b[49m\u001b[43m \u001b[49m\u001b[43margs\u001b[49m\u001b[43m,\u001b[49m\u001b[43m \u001b[49m\u001b[43mkwargs\u001b[49m\u001b[43m)\u001b[49m\n\u001b[1;32m    511\u001b[0m     \u001b[38;5;28;01mexcept\u001b[39;00m (errors\u001b[38;5;241m.\u001b[39mConnectionClosedError, errors\u001b[38;5;241m.\u001b[39mTimeoutError):\n\u001b[1;32m    512\u001b[0m         \u001b[38;5;66;03m# only retry for recoverable network errors\u001b[39;00m\n\u001b[1;32m    513\u001b[0m         \u001b[38;5;28;01mif\u001b[39;00m attempt \u001b[38;5;241m>\u001b[39m\u001b[38;5;241m=\u001b[39m \u001b[38;5;28mself\u001b[39m\u001b[38;5;241m.\u001b[39m__max_retries:\n\u001b[1;32m    514\u001b[0m             \u001b[38;5;66;03m# last attempt, raise the exception\u001b[39;00m\n",
      "File \u001b[0;32m~/Desktop/Work/MIT/WINTER/GIT/winter-image-daemon/.conda/lib/python3.11/site-packages/Pyro5/client.py:275\u001b[0m, in \u001b[0;36mProxy._pyroInvoke\u001b[0;34m(self, methodname, vargs, kwargs, flags, objectId)\u001b[0m\n\u001b[1;32m    273\u001b[0m     \u001b[38;5;28;01mreturn\u001b[39;00m _StreamResultIterator(streamId, \u001b[38;5;28mself\u001b[39m)\n\u001b[1;32m    274\u001b[0m \u001b[38;5;28;01mif\u001b[39;00m msg\u001b[38;5;241m.\u001b[39mflags \u001b[38;5;241m&\u001b[39m protocol\u001b[38;5;241m.\u001b[39mFLAGS_EXCEPTION:\n\u001b[0;32m--> 275\u001b[0m     \u001b[38;5;28;01mraise\u001b[39;00m data  \u001b[38;5;66;03m# if you see this in your traceback, you should probably inspect the remote traceback as well\u001b[39;00m\n\u001b[1;32m    276\u001b[0m \u001b[38;5;28;01melse\u001b[39;00m:\n\u001b[1;32m    277\u001b[0m     \u001b[38;5;28;01mreturn\u001b[39;00m data\n",
      "\u001b[0;31mTypeError\u001b[0m: scalar 'SkyCoord' object is not iterable."
     ]
    }
   ],
   "source": [
    "\n",
    "\n",
    "image_dir = os.path.join(RAW_DATA_DIR, \"qcmos\", \"science\")\n",
    "science_images = sorted(glob(os.path.join(image_dir, \"*8s*.fits\")))\n",
    "science_image = science_images[0]\n",
    "print(f\"Science image: {science_image}\")\n",
    "\n",
    "# run the full astrometric pipeline\n",
    "output_dir = os.path.join(os.path.join(os.getenv(\"HOME\"), \"data\", \"tmp\"))\n",
    "\n",
    "# this image has no RA/Dec in the header, so we need to set it\n",
    "ra_guess = 83.6\n",
    "dec_guess = 22\n",
    "\n",
    "\n",
    "\n",
    "astrom_info = qcmos.solve_astrometry(science_image = science_image,\n",
    "                                      background_image_list = None,\n",
    "                                      output_dir = output_dir,\n",
    "                                      ra = ra_guess,\n",
    "                                      dec = dec_guess,\n",
    "                                      pix_coords = None,\n",
    "    )\n",
    "\n",
    "print(f\"Astrometric solution: {json.dumps(astrom_info, indent = 2)}\")\n",
    "\n",
    "# the image is 4096 x 2304\n",
    "wx = 4096\n",
    "wy = 2304\n",
    "# let's try to get the WCS for a pixel in the center of the image\n",
    "x_pix, y_pix = wx // 2, wy // 2\n",
    "sky_pos = pix2sky(x_pix, y_pix, astrom_info[\"wcs\"])\n",
    "print(\n",
    "    f\"Coord conversion: (x, y) = ({x_pix}, {y_pix}) -> (RA, Dec) = ({sky_pos.ra:.1f}, {sky_pos.dec:.1f}) deg\"\n",
    ")\n",
    "#best_focus = qcmos.run_focus_loop(image_list=[...])"
   ]
  }
 ],
 "metadata": {
  "kernelspec": {
   "display_name": "Python 3",
   "language": "python",
   "name": "python3"
  },
  "language_info": {
   "codemirror_mode": {
    "name": "ipython",
    "version": 3
   },
   "file_extension": ".py",
   "mimetype": "text/x-python",
   "name": "python",
   "nbconvert_exporter": "python",
   "pygments_lexer": "ipython3",
   "version": "3.11.11"
  }
 },
 "nbformat": 4,
 "nbformat_minor": 5
}
