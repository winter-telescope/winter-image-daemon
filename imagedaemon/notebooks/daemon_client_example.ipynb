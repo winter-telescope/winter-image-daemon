{
 "cells": [
  {
   "cell_type": "code",
   "execution_count": 1,
   "id": "c5eeff23",
   "metadata": {},
   "outputs": [
    {
     "name": "stdout",
     "output_type": "stream",
     "text": [
      "_PROJECT_ROOT = /Users/nlourie/Desktop/Work/MIT/WINTER/GIT/winter-image-daemon/imagedaemon\n",
      "CONFIG_DIR = /Users/nlourie/Desktop/Work/MIT/WINTER/GIT/winter-image-daemon/imagedaemon/imagedaemon/config\n",
      "astro_scamp = /Users/nlourie/Desktop/Work/MIT/WINTER/GIT/winter-image-daemon/imagedaemon/imagedaemon/config/scamp.conf\n",
      "masterbias_dir = /Users/nlourie/data/image-daemon-data/calibration/masterbias\n"
     ]
    }
   ],
   "source": [
    "import Pyro5.api\n",
    "import os\n",
    "from glob import glob\n",
    "import json\n",
    "\n",
    "from imagedaemon.utils.paths import RAW_DATA_DIR\n",
    "\n",
    "\n",
    "ns = Pyro5.api.locate_ns(host=\"localhost\")\n",
    "\n",
    "#winter = Pyro5.api.Proxy(ns.lookup(\"winter_daemon\"))\n",
    "#wcs = winter.get_astrometry(addr=\"pb\", science_image=\"IMG.fits\", ra=..., dec=...)\n",
    "\n",
    "qcmos = Pyro5.api.Proxy(ns.lookup(\"qcmos_daemon\"))\n",
    "\n",
    "winter = Pyro5.api.Proxy(ns.lookup(\"winter_daemon\"))"
   ]
  },
  {
   "cell_type": "code",
   "execution_count": 2,
   "id": "c4fbfa59",
   "metadata": {},
   "outputs": [
    {
     "name": "stdout",
     "output_type": "stream",
     "text": [
      "Science image: /Users/nlourie/data/image-daemon-data/raw/qcmos/science/8s_image_single.fits\n",
      "Astrometric solution: {\n",
      "  \"ra\": 83.63355276039101,\n",
      "  \"dec\": 21.998954213523806,\n",
      "  \"pix_coords\": [\n",
      "    2048,\n",
      "    1152\n",
      "  ],\n",
      "  \"pixel_scale\": 0.15731235843477753,\n",
      "  \"rotation_deg\": 179.99645031338304,\n",
      "  \"image_width\": 4096,\n",
      "  \"image_height\": 2304\n",
      "}\n"
     ]
    }
   ],
   "source": [
    "# ask the daemon to analyze a qcmos image\n",
    "\n",
    "image_dir = os.path.join(RAW_DATA_DIR, \"qcmos\", \"science\")\n",
    "science_images = sorted(glob(os.path.join(image_dir, \"*8s*.fits\")))\n",
    "science_image = science_images[0]\n",
    "print(f\"Science image: {science_image}\")\n",
    "\n",
    "# run the full astrometric pipeline\n",
    "output_dir = os.path.join(os.path.join(os.getenv(\"HOME\"), \"data\", \"tmp\"))\n",
    "\n",
    "# this image has no RA/Dec in the header, so we need to set it\n",
    "ra_guess = 83.6\n",
    "dec_guess = 22\n",
    "\n",
    "\n",
    "\n",
    "astrom_info = qcmos.solve_astrometry(science_image = science_image,\n",
    "                                      background_image_list = None,\n",
    "                                      output_dir = output_dir,\n",
    "                                      ra = ra_guess,\n",
    "                                      dec = dec_guess,\n",
    "                                      pix_coords = None,\n",
    "    )\n",
    "\n",
    "print(f\"Astrometric solution: {json.dumps(astrom_info, indent = 2)}\")\n",
    "\n"
   ]
  },
  {
   "cell_type": "code",
   "execution_count": null,
   "id": "7c324c6a",
   "metadata": {},
   "outputs": [
    {
     "name": "stdout",
     "output_type": "stream",
     "text": [
      "Using 4 background images with science image\n"
     ]
    },
    {
     "ename": "RuntimeError",
     "evalue": "solve‑field exceeded 30s",
     "output_type": "error",
     "traceback": [
      "\u001b[0;31m---------------------------------------------------------------------------\u001b[0m",
      "\u001b[0;31mRuntimeError\u001b[0m                              Traceback (most recent call last)",
      "Cell \u001b[0;32mIn[3], line 25\u001b[0m\n\u001b[1;32m     22\u001b[0m output_dir \u001b[38;5;241m=\u001b[39m os\u001b[38;5;241m.\u001b[39mpath\u001b[38;5;241m.\u001b[39mjoin(os\u001b[38;5;241m.\u001b[39mpath\u001b[38;5;241m.\u001b[39mjoin(os\u001b[38;5;241m.\u001b[39mgetenv(\u001b[38;5;124m\"\u001b[39m\u001b[38;5;124mHOME\u001b[39m\u001b[38;5;124m\"\u001b[39m), \u001b[38;5;124m\"\u001b[39m\u001b[38;5;124mdata\u001b[39m\u001b[38;5;124m\"\u001b[39m, \u001b[38;5;124m\"\u001b[39m\u001b[38;5;124mtmp\u001b[39m\u001b[38;5;124m\"\u001b[39m))\n\u001b[1;32m     23\u001b[0m output_dir \u001b[38;5;241m=\u001b[39m \u001b[38;5;124m\"\u001b[39m\u001b[38;5;124mtmp\u001b[39m\u001b[38;5;124m\"\u001b[39m \u001b[38;5;66;03m# so that it doesn't save any extra files\u001b[39;00m\n\u001b[0;32m---> 25\u001b[0m astrom_info \u001b[38;5;241m=\u001b[39m \u001b[43mwinter\u001b[49m\u001b[38;5;241;43m.\u001b[39;49m\u001b[43msolve_astrometry\u001b[49m\u001b[43m(\u001b[49m\u001b[43maddr\u001b[49m\u001b[38;5;241;43m=\u001b[39;49m\u001b[43maddr\u001b[49m\u001b[43m,\u001b[49m\n\u001b[1;32m     26\u001b[0m \u001b[43m                                    \u001b[49m\u001b[43mscience_image\u001b[49m\u001b[38;5;241;43m=\u001b[39;49m\u001b[43mscience_image\u001b[49m\u001b[43m,\u001b[49m\n\u001b[1;32m     27\u001b[0m \u001b[43m                                    \u001b[49m\u001b[43mbackground_image_list\u001b[49m\u001b[38;5;241;43m=\u001b[39;49m\u001b[43mbkg_images\u001b[49m\u001b[43m,\u001b[49m\n\u001b[1;32m     28\u001b[0m \u001b[43m                                    \u001b[49m\u001b[43moutput_dir\u001b[49m\u001b[38;5;241;43m=\u001b[39;49m\u001b[43moutput_dir\u001b[49m\u001b[43m,\u001b[49m\n\u001b[1;32m     29\u001b[0m \u001b[43m                                    \u001b[49m\u001b[43mpix_coords\u001b[49m\u001b[38;5;241;43m=\u001b[39;49m\u001b[38;5;28;43;01mNone\u001b[39;49;00m\u001b[43m,\u001b[49m\n\u001b[1;32m     30\u001b[0m \u001b[43m                                    \u001b[49m\u001b[43mra\u001b[49m\u001b[43m \u001b[49m\u001b[38;5;241;43m=\u001b[39;49m\u001b[43m \u001b[49m\u001b[38;5;241;43m10\u001b[39;49m\u001b[43m,\u001b[49m\n\u001b[1;32m     31\u001b[0m \u001b[43m                                    \u001b[49m\u001b[43mdec\u001b[49m\u001b[43m \u001b[49m\u001b[38;5;241;43m=\u001b[39;49m\u001b[43m \u001b[49m\u001b[38;5;241;43m10\u001b[39;49m\u001b[43m,\u001b[49m\n\u001b[1;32m     32\u001b[0m \u001b[43m)\u001b[49m\n\u001b[1;32m     34\u001b[0m \u001b[38;5;28mprint\u001b[39m(\u001b[38;5;124mf\u001b[39m\u001b[38;5;124m\"\u001b[39m\u001b[38;5;124mAstrometric solution: \u001b[39m\u001b[38;5;132;01m{\u001b[39;00mjson\u001b[38;5;241m.\u001b[39mdumps(astrom_info,\u001b[38;5;250m \u001b[39mindent\u001b[38;5;250m \u001b[39m\u001b[38;5;241m=\u001b[39m\u001b[38;5;250m \u001b[39m\u001b[38;5;241m2\u001b[39m)\u001b[38;5;132;01m}\u001b[39;00m\u001b[38;5;124m\"\u001b[39m)\n",
      "File \u001b[0;32m~/Desktop/Work/MIT/WINTER/GIT/winter-image-daemon/.conda/lib/python3.11/site-packages/Pyro5/client.py:510\u001b[0m, in \u001b[0;36m_RemoteMethod.__call__\u001b[0;34m(self, *args, **kwargs)\u001b[0m\n\u001b[1;32m    508\u001b[0m \u001b[38;5;28;01mfor\u001b[39;00m attempt \u001b[38;5;129;01min\u001b[39;00m \u001b[38;5;28mrange\u001b[39m(\u001b[38;5;28mself\u001b[39m\u001b[38;5;241m.\u001b[39m__max_retries \u001b[38;5;241m+\u001b[39m \u001b[38;5;241m1\u001b[39m):\n\u001b[1;32m    509\u001b[0m     \u001b[38;5;28;01mtry\u001b[39;00m:\n\u001b[0;32m--> 510\u001b[0m         \u001b[38;5;28;01mreturn\u001b[39;00m \u001b[38;5;28;43mself\u001b[39;49m\u001b[38;5;241;43m.\u001b[39;49m\u001b[43m__send\u001b[49m\u001b[43m(\u001b[49m\u001b[38;5;28;43mself\u001b[39;49m\u001b[38;5;241;43m.\u001b[39;49m\u001b[43m__name\u001b[49m\u001b[43m,\u001b[49m\u001b[43m \u001b[49m\u001b[43margs\u001b[49m\u001b[43m,\u001b[49m\u001b[43m \u001b[49m\u001b[43mkwargs\u001b[49m\u001b[43m)\u001b[49m\n\u001b[1;32m    511\u001b[0m     \u001b[38;5;28;01mexcept\u001b[39;00m (errors\u001b[38;5;241m.\u001b[39mConnectionClosedError, errors\u001b[38;5;241m.\u001b[39mTimeoutError):\n\u001b[1;32m    512\u001b[0m         \u001b[38;5;66;03m# only retry for recoverable network errors\u001b[39;00m\n\u001b[1;32m    513\u001b[0m         \u001b[38;5;28;01mif\u001b[39;00m attempt \u001b[38;5;241m>\u001b[39m\u001b[38;5;241m=\u001b[39m \u001b[38;5;28mself\u001b[39m\u001b[38;5;241m.\u001b[39m__max_retries:\n\u001b[1;32m    514\u001b[0m             \u001b[38;5;66;03m# last attempt, raise the exception\u001b[39;00m\n",
      "File \u001b[0;32m~/Desktop/Work/MIT/WINTER/GIT/winter-image-daemon/.conda/lib/python3.11/site-packages/Pyro5/client.py:275\u001b[0m, in \u001b[0;36mProxy._pyroInvoke\u001b[0;34m(self, methodname, vargs, kwargs, flags, objectId)\u001b[0m\n\u001b[1;32m    273\u001b[0m     \u001b[38;5;28;01mreturn\u001b[39;00m _StreamResultIterator(streamId, \u001b[38;5;28mself\u001b[39m)\n\u001b[1;32m    274\u001b[0m \u001b[38;5;28;01mif\u001b[39;00m msg\u001b[38;5;241m.\u001b[39mflags \u001b[38;5;241m&\u001b[39m protocol\u001b[38;5;241m.\u001b[39mFLAGS_EXCEPTION:\n\u001b[0;32m--> 275\u001b[0m     \u001b[38;5;28;01mraise\u001b[39;00m data  \u001b[38;5;66;03m# if you see this in your traceback, you should probably inspect the remote traceback as well\u001b[39;00m\n\u001b[1;32m    276\u001b[0m \u001b[38;5;28;01melse\u001b[39;00m:\n\u001b[1;32m    277\u001b[0m     \u001b[38;5;28;01mreturn\u001b[39;00m data\n",
      "\u001b[0;31mRuntimeError\u001b[0m: solve‑field exceeded 30s"
     ]
    }
   ],
   "source": [
    "# ask the daemon to analyze a winter image\n",
    "\n",
    "addr = \"pb\"\n",
    "bkg_dir = os.path.join(RAW_DATA_DIR, \"winter\", \"science\", \"30s\", \"bkg\")\n",
    "science_dir = os.path.join(RAW_DATA_DIR, \"winter\", \"science\", \"30s\")\n",
    "\n",
    "bkg_images = sorted(glob(os.path.join(bkg_dir, \"*mef.fits\")))\n",
    "MAX_BKG_IMAGES = 3\n",
    "\n",
    "bkg_images = bkg_images[:MAX_BKG_IMAGES]\n",
    "science_images = sorted(glob(os.path.join(science_dir, \"*mef.fits\")))\n",
    "science_image = science_images[0]\n",
    "\n",
    "use_science_in_bkg = True\n",
    "\n",
    "if use_science_in_bkg:\n",
    "    bkg_images = [science_image] + bkg_images\n",
    "    print(f\"Using {len(bkg_images)} background images with science image\")\n",
    "else:\n",
    "    print(f\"Using {len(bkg_images)} background images without science image\")\n",
    "\n",
    "output_dir = os.path.join(os.path.join(os.getenv(\"HOME\"), \"data\", \"tmp\"))\n",
    "output_dir = \"tmp\" # so that it doesn't save any extra files\n",
    "\n",
    "astrom_info = winter.solve_astrometry(addr=addr,\n",
    "                                    science_image=science_image,\n",
    "                                    background_image_list=bkg_images,\n",
    "                                    output_dir=output_dir,\n",
    "                                    pix_coords=None,\n",
    "                                    ra = 10,\n",
    "                                    dec = 10,\n",
    "                                    timeout=10,\n",
    ")\n",
    "\n",
    "print(f\"Astrometric solution: {json.dumps(astrom_info, indent = 2)}\")\n",
    "\n",
    "\n"
   ]
  }
 ],
 "metadata": {
  "kernelspec": {
   "display_name": "Python 3",
   "language": "python",
   "name": "python3"
  },
  "language_info": {
   "codemirror_mode": {
    "name": "ipython",
    "version": 3
   },
   "file_extension": ".py",
   "mimetype": "text/x-python",
   "name": "python",
   "nbconvert_exporter": "python",
   "pygments_lexer": "ipython3",
   "version": "3.11.11"
  }
 },
 "nbformat": 4,
 "nbformat_minor": 5
}
